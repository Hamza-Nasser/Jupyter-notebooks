{
 "cells": [
  {
   "cell_type": "markdown",
   "id": "8403a58e",
   "metadata": {},
   "source": [
    "## Problem Statement "
   ]
  },
  {
   "cell_type": "markdown",
   "id": "360b73f2",
   "metadata": {},
   "source": [
    "| Size (sqft) | Number of Bedrooms  | Number of floors | Age of  Home | Price (1000s dollars)  |   \n",
    "| ----------------| ------------------- |----------------- |--------------|-------------- |  \n",
    "| 2104            | 5                   | 1                | 45           | 460           |  \n",
    "| 1416            | 3                   | 2                | 40           | 232           |  \n",
    "| 852             | 2                   | 1                | 35           | 178           | "
   ]
  },
  {
   "cell_type": "markdown",
   "id": "41bb4b87",
   "metadata": {},
   "source": [
    "Given above data, train a linear regrission model to predict a new house price given its size, #bedrooms, #floors, and Age of house.\n",
    "\n",
    "with `w_init` = [ 0.39133535, 18.75376741, -53.36032453, -26.42131618], and `b_init` = 785.1811367994083\n",
    ">**Note**: Implementation of cost func, and gradiant decent is required"
   ]
  },
  {
   "cell_type": "markdown",
   "id": "df21c101",
   "metadata": {},
   "source": [
    "### solution\n"
   ]
  },
  {
   "cell_type": "markdown",
   "id": "b48b21f6",
   "metadata": {},
   "source": [
    "First we represent the given data into numpy array and vector, `X_train` is a matrix of size `3x4`, contains 3 training examples and 4 features ber each training example. And `y_train` for target values ber each training example."
   ]
  },
  {
   "cell_type": "code",
   "execution_count": 1,
   "id": "8586d9cc",
   "metadata": {
    "ExecuteTime": {
     "end_time": "2023-01-26T23:56:48.482168Z",
     "start_time": "2023-01-26T23:56:48.309265Z"
    }
   },
   "outputs": [],
   "source": [
    "import numpy as np"
   ]
  },
  {
   "cell_type": "code",
   "execution_count": 5,
   "id": "498f86fe",
   "metadata": {
    "ExecuteTime": {
     "end_time": "2023-01-27T00:03:09.206184Z",
     "start_time": "2023-01-27T00:03:09.199827Z"
    }
   },
   "outputs": [
    {
     "name": "stdout",
     "output_type": "stream",
     "text": [
      "[[2104    5    1   45]\n",
      " [1416    3    2   40]\n",
      " [ 852    2    1   35]]\n",
      "(3, 4)\n",
      "[460 232 178]\n",
      "(3,)\n"
     ]
    }
   ],
   "source": [
    "X_train = np.array([[2104, 5, 1, 45],[1416, 3, 2, 40],[852, 2, 1, 35]])\n",
    "y_train = np.array([460, 232, 178])\n",
    "print(X_train)\n",
    "print(X_train.shape)\n",
    "print(y_train)\n",
    "print(y_train.shape)"
   ]
  },
  {
   "cell_type": "markdown",
   "id": "528b3dd0",
   "metadata": {},
   "source": [
    ">**Note**: `y_train` is a column vector"
   ]
  },
  {
   "cell_type": "markdown",
   "id": "18c536bc",
   "metadata": {},
   "source": [
    "We will make use of straight line model in its vector form like:\n",
    "   $f_{\\mathbf{w},b}(\\mathbf{x}^{(i)}) = \\mathbf{w}^{(i)} \\cdot \\mathbf{x}^{(i)} + b \\tag{1}$ "
   ]
  },
  {
   "cell_type": "markdown",
   "id": "41ff86ec",
   "metadata": {},
   "source": [
    "where $\\mathbf{x}^{(i)}$ is input features - vector (`X_train[i]`) for $i^{th}$ training example, and $\\mathbf{w}$, $b$ are the model parameters.\n",
    "$\\mathbf{w}^{(i)}$ is a vector, while $b$ is a scalar"
   ]
  },
  {
   "cell_type": "markdown",
   "id": "2776bc7a",
   "metadata": {},
   "source": [
    "#### Model implementation"
   ]
  },
  {
   "cell_type": "code",
   "execution_count": 12,
   "id": "9c5c4df9",
   "metadata": {
    "ExecuteTime": {
     "end_time": "2023-01-27T00:33:36.375056Z",
     "start_time": "2023-01-27T00:33:36.368077Z"
    }
   },
   "outputs": [],
   "source": [
    "def predict(x, w, b):\n",
    "    \"\"\" \n",
    "    predict using linear regression\n",
    "    x is numpy ndarray represents input features\n",
    "    w is numpy ndarray (model parameters)\n",
    "    b is scalar (model parameter)\n",
    "    \n",
    "    returns p (scalar): prediction\n",
    "    \"\"\"\n",
    "    try:\n",
    "        p = np.dot(x, w) + b\n",
    "    except Exception as e:\n",
    "        print(e)\n",
    "    return p"
   ]
  },
  {
   "cell_type": "code",
   "execution_count": 7,
   "id": "88fb114e",
   "metadata": {
    "ExecuteTime": {
     "end_time": "2023-01-27T00:27:50.356682Z",
     "start_time": "2023-01-27T00:27:50.350813Z"
    }
   },
   "outputs": [],
   "source": [
    "# taking w_init, b_init \n",
    "b_init = 785.1811367994083\n",
    "w_init = np.array([ 0.39133535, 18.75376741, -53.36032453, -26.42131618])"
   ]
  },
  {
   "cell_type": "code",
   "execution_count": 17,
   "id": "fab17ace",
   "metadata": {
    "ExecuteTime": {
     "end_time": "2023-01-27T00:35:38.833921Z",
     "start_time": "2023-01-27T00:35:38.825318Z"
    }
   },
   "outputs": [
    {
     "name": "stdout",
     "output_type": "stream",
     "text": [
      "[2104    5    1   45]\n",
      "459.9999976194083\n"
     ]
    }
   ],
   "source": [
    "# make a prediction on first training example to test the model\n",
    "x_vec = X_train[0]\n",
    "print(x_vec)\n",
    "prediction = predict(x_vec, w_init, b_init)\n",
    "print(prediction)"
   ]
  },
  {
   "cell_type": "markdown",
   "id": "b06e6563",
   "metadata": {},
   "source": [
    "The result is near to the actual value"
   ]
  },
  {
   "cell_type": "markdown",
   "id": "4f5e5a23",
   "metadata": {},
   "source": [
    "#### Computing cost"
   ]
  },
  {
   "cell_type": "markdown",
   "id": "6db6e66d",
   "metadata": {},
   "source": [
    "Let the cost func be the squared error func:\n",
    "\n",
    "$$J(\\mathbf{w},b) = \\frac{1}{2m} \\sum\\limits_{i = 0}^{m-1} (f_{\\mathbf{w},b}(\\mathbf{x}^{(i)}) - y^{(i)})^2 \\tag{2}$$ "
   ]
  },
  {
   "cell_type": "code",
   "execution_count": 20,
   "id": "ed1e5486",
   "metadata": {
    "ExecuteTime": {
     "end_time": "2023-01-27T00:51:46.294410Z",
     "start_time": "2023-01-27T00:51:46.284115Z"
    }
   },
   "outputs": [],
   "source": [
    "def compute_cost(X, y, w, b):\n",
    "    \"\"\"\n",
    "    Args:\n",
    "      X (ndarray (m,n)): Data, m examples with n features\n",
    "      y (ndarray (m,)) : target values\n",
    "      w (ndarray (n,)) : model parameters  \n",
    "      b (scalar)       : model parameter\n",
    "      \n",
    "    Returns:\n",
    "      cost (scalar): cost\n",
    "    \"\"\"\n",
    "    m = X.shape[0]\n",
    "    cost = 0.0\n",
    "    for i in range(m):\n",
    "        f_wb_i = np.dot(X[i], w) + b\n",
    "        cost = cost + (f_wb_i - y[i])**2\n",
    "    cost = cost/(2*m)\n",
    "    return cost"
   ]
  },
  {
   "cell_type": "code",
   "execution_count": 21,
   "id": "ed2b5540",
   "metadata": {
    "ExecuteTime": {
     "end_time": "2023-01-27T00:51:49.387492Z",
     "start_time": "2023-01-27T00:51:49.380458Z"
    }
   },
   "outputs": [
    {
     "name": "stdout",
     "output_type": "stream",
     "text": [
      "1.5578904428966628e-12\n"
     ]
    }
   ],
   "source": [
    "cost = compute_cost(X_train, y_train, w_init, b_init)\n",
    "print(cost)"
   ]
  },
  {
   "cell_type": "code",
   "execution_count": null,
   "id": "1d6570fc",
   "metadata": {},
   "outputs": [],
   "source": []
  }
 ],
 "metadata": {
  "kernelspec": {
   "display_name": "Python 3 (ipykernel)",
   "language": "python",
   "name": "python3"
  },
  "language_info": {
   "codemirror_mode": {
    "name": "ipython",
    "version": 3
   },
   "file_extension": ".py",
   "mimetype": "text/x-python",
   "name": "python",
   "nbconvert_exporter": "python",
   "pygments_lexer": "ipython3",
   "version": "3.10.6"
  },
  "toc": {
   "base_numbering": 1,
   "nav_menu": {},
   "number_sections": true,
   "sideBar": true,
   "skip_h1_title": false,
   "title_cell": "Table of Contents",
   "title_sidebar": "Contents",
   "toc_cell": false,
   "toc_position": {},
   "toc_section_display": true,
   "toc_window_display": false
  }
 },
 "nbformat": 4,
 "nbformat_minor": 5
}
