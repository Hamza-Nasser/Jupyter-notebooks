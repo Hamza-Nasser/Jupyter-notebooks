{
 "cells": [
  {
   "cell_type": "markdown",
   "id": "eba3fd54",
   "metadata": {},
   "source": [
    "## Vector creation"
   ]
  },
  {
   "cell_type": "markdown",
   "id": "4b45aa80",
   "metadata": {},
   "source": [
    "create a numby zero vector of size 4 and display its dimension."
   ]
  },
  {
   "cell_type": "code",
   "execution_count": 1,
   "id": "ab4580ee",
   "metadata": {
    "ExecuteTime": {
     "end_time": "2023-01-26T23:19:58.755933Z",
     "start_time": "2023-01-26T23:19:58.609245Z"
    }
   },
   "outputs": [],
   "source": [
    "import numpy as np\n",
    "import time"
   ]
  },
  {
   "cell_type": "code",
   "execution_count": 7,
   "id": "7667a48a",
   "metadata": {
    "ExecuteTime": {
     "end_time": "2023-01-26T23:23:10.082795Z",
     "start_time": "2023-01-26T23:23:10.075387Z"
    }
   },
   "outputs": [
    {
     "name": "stdout",
     "output_type": "stream",
     "text": [
      "[0. 0. 0. 0.]\n",
      "(4,)\n"
     ]
    }
   ],
   "source": [
    "v = np.zeros(4)\n",
    "v_dim = v.shape\n",
    "print(v)\n",
    "print(v_dim)\n"
   ]
  },
  {
   "cell_type": "code",
   "execution_count": null,
   "id": "f9f35509",
   "metadata": {},
   "outputs": [],
   "source": []
  },
  {
   "cell_type": "raw",
   "id": "d922fdfc",
   "metadata": {},
   "source": []
  }
 ],
 "metadata": {
  "kernelspec": {
   "display_name": "Python 3 (ipykernel)",
   "language": "python",
   "name": "python3"
  },
  "language_info": {
   "codemirror_mode": {
    "name": "ipython",
    "version": 3
   },
   "file_extension": ".py",
   "mimetype": "text/x-python",
   "name": "python",
   "nbconvert_exporter": "python",
   "pygments_lexer": "ipython3",
   "version": "3.10.6"
  },
  "toc": {
   "base_numbering": 1,
   "nav_menu": {},
   "number_sections": true,
   "sideBar": true,
   "skip_h1_title": false,
   "title_cell": "Table of Contents",
   "title_sidebar": "Contents",
   "toc_cell": false,
   "toc_position": {},
   "toc_section_display": true,
   "toc_window_display": false
  }
 },
 "nbformat": 4,
 "nbformat_minor": 5
}
