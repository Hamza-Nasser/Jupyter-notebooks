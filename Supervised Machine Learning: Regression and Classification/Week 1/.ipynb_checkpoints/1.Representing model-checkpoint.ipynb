{
 "cells": [
  {
   "cell_type": "markdown",
   "id": "960d8b7d",
   "metadata": {},
   "source": [
    "# Linear Regression Model Representaion"
   ]
  },
  {
   "cell_type": "markdown",
   "id": "87c231a3",
   "metadata": {},
   "source": [
    "## Notations"
   ]
  },
  {
   "cell_type": "markdown",
   "id": "38593e2d",
   "metadata": {},
   "source": [
    "Here is a sammury of notations used on this notebook"
   ]
  },
  {
   "cell_type": "markdown",
   "id": "aae3e644",
   "metadata": {},
   "source": [
    "| General <img width=70/> <br/> notation <img width=70/> | Description <img width=600/>|Python (if applicable)|\n",
    "|:---------------|-----------:|:-:|\n",
    "| $a$ | scalar, non bold ||\n",
    "| $\\mathbf{a}$ | vector, bold||\n",
    "| **Regression** | | |\n",
    "| $\\mathbf{x}$  | Training Example Feature values (in this notebook - Size(1000sqft))|`x_train`| \n",
    "| $\\mathbf{y}$  | Training Example Targets (in this notebook - Price(1000s of dollars))|`y_train`| \n",
    "| $x^{(i)}$, $y^{(i)}$ | $i_{th}$ Training Example |`x_i`, `y_i`|\n",
    "| m | Number of training examples |`m`|\n",
    "| $w$ | Parameter: weight |`w`|\n",
    "| $b$ | Parameter: bais |`b`|\n",
    "| $f_{w,b}(x^{(i)})$ | The result of the model evaluation at $x^{(i)}$ parametarized by $w, b$: $f_{w,b}(x^{(i)}) = wx^{(i)} + b$ |`f_wb`|"
   ]
  },
  {
   "cell_type": "markdown",
   "id": "65a4eff0",
   "metadata": {},
   "source": [
    "## Training set - House pricing example."
   ]
  },
  {
   "cell_type": "markdown",
   "id": "42cbfddf",
   "metadata": {},
   "source": [
    "Suppose we have a training set consisting of two x feature inputs (size(1000sqft)) and two y target lable (price 1000s of dollars) - a house with 1000 square feet(sqft) sold for \\\\$300,000 and a house with 2000 square feet sold for \\\\$500,000. These two points will constitute our data or training set.\n",
    "\n",
    "|Size(1000 sqft) <img width=150/> |Price (1000s of dollars) <img width=150/>|\n",
    "|:-:|:-:|\n",
    "|1.0|300|\n",
    "|2.0|500|"
   ]
  },
  {
   "cell_type": "code",
   "execution_count": 3,
   "id": "0b0c4186",
   "metadata": {
    "ExecuteTime": {
     "end_time": "2023-01-13T23:38:33.151267Z",
     "start_time": "2023-01-13T23:38:32.696621Z"
    }
   },
   "outputs": [],
   "source": [
    "import numpy as np\n",
    "import matplotlib.pyplot as plt\n",
    "# plt.style.use('./deeplearning.mplstyle') "
   ]
  },
  {
   "cell_type": "code",
   "execution_count": 9,
   "id": "7351c67f",
   "metadata": {
    "ExecuteTime": {
     "end_time": "2023-01-13T23:39:36.274777Z",
     "start_time": "2023-01-13T23:39:36.088745Z"
    }
   },
   "outputs": [
    {
     "name": "stdout",
     "output_type": "stream",
     "text": [
      "x_train = [1. 2.]\n",
      "y_train = [300 500]\n"
     ]
    },
    {
     "data": {
      "text/plain": [
       "<matplotlib.collections.PathCollection at 0x7f25b9165300>"
      ]
     },
     "execution_count": 9,
     "metadata": {},
     "output_type": "execute_result"
    },
    {
     "data": {
      "image/png": "[encoded data removed]",
      "text/plain": [
       "<Figure size 640x480 with 1 Axes>"
      ]
     },
     "metadata": {},
     "output_type": "display_data"
    }
   ],
   "source": [
    "# initialize numpy arrays with the training set above\n",
    "# x_train is the input variable (size in 1000 square feet)\n",
    "# y_train is the target (price in 1000s of dollars)\n",
    "x_train = np.array([1.0, 2.0])\n",
    "y_train = np.array([300, 500])\n",
    "print(f\"x_train = {x_train}\")\n",
    "print(f\"y_train = {y_train}\")\n",
    "plt.scatter(x_train, y_train, marker='o', color='r')"
   ]
  },
  {
   "cell_type": "markdown",
   "id": "51ceaf80",
   "metadata": {},
   "source": [
    "Objective is to fit a linear regression model through these two points, so that the model can predict the price of other houses - say, a house with 1200sqft. Obviously its a straight line."
   ]
  },
  {
   "cell_type": "markdown",
   "id": "757a3aa6",
   "metadata": {},
   "source": [
    ">**Note**: 'f-string' is used here to be able to print expressions after evaluating. when printing. The content between the curly braces is evaluated when producing the output."
   ]
  },
  {
   "cell_type": "markdown",
   "id": "e2cd9088",
   "metadata": {},
   "source": [
    "### Number of training examples `m`"
   ]
  },
  {
   "cell_type": "markdown",
   "id": "67d8c8e3",
   "metadata": {},
   "source": [
    "we will use `m` to denote the number of training examples. Numpy array has `.shape` parameter. `x_train.shape` returns a python tuple with an entry for each dimension. `x_train.shape[0]` is the length of the array (the number of features or examples)."
   ]
  },
  {
   "cell_type": "code",
   "execution_count": 12,
   "id": "040b14de",
   "metadata": {
    "ExecuteTime": {
     "end_time": "2023-01-13T23:40:58.408458Z",
     "start_time": "2023-01-13T23:40:58.400891Z"
    }
   },
   "outputs": [
    {
     "name": "stdout",
     "output_type": "stream",
     "text": [
      "x_train.shape: (2,)\n",
      "Number of training examples: 2\n"
     ]
    }
   ],
   "source": [
    "# m is the number of training examples\n",
    "print(f\"x_train.shape: {x_train.shape}\")\n",
    "m = x_train.shape[0]\n",
    "print(f\"Number of training examples: {m}\")"
   ]
  },
  {
   "cell_type": "markdown",
   "id": "ef3ee797",
   "metadata": {},
   "source": [
    "Or we can simply use `len()` method to do such thing."
   ]
  },
  {
   "cell_type": "code",
   "execution_count": 14,
   "id": "563b1ffd",
   "metadata": {
    "ExecuteTime": {
     "end_time": "2023-01-13T23:42:37.365777Z",
     "start_time": "2023-01-13T23:42:37.359780Z"
    }
   },
   "outputs": [
    {
     "name": "stdout",
     "output_type": "stream",
     "text": [
      "Number of training examples: 2\n"
     ]
    }
   ],
   "source": [
    "m = len(x_train)\n",
    "print(f\"Number of training examples: {m}\")"
   ]
  },
  {
   "cell_type": "markdown",
   "id": "ed0f9417",
   "metadata": {},
   "source": [
    "### Training example `x_i, y_i`"
   ]
  },
  {
   "cell_type": "markdown",
   "id": "ccb29e6b",
   "metadata": {},
   "source": [
    "($x^{(i)}, y^{(i)}$) denotes the $i^{th}$ training example. In the above example we have ($x^{(0)}, y^{(0)}$) is (1.0, 300.0) and ($x^{(1)}, y^{(1)}$) is (2.0, 500.0). "
   ]
  },
  {
   "cell_type": "markdown",
   "id": "4a22fdf7",
   "metadata": {},
   "source": [
    "### Plotting the data using matplotlib"
   ]
  },
  {
   "cell_type": "code",
   "execution_count": 17,
   "id": "405534f0",
   "metadata": {
    "ExecuteTime": {
     "end_time": "2023-01-13T23:58:52.169579Z",
     "start_time": "2023-01-13T23:58:51.994530Z"
    }
   },
   "outputs": [
    {
     "data": {
      "image/png": "[encoded data removed]",
      "text/plain": [
       "<Figure size 640x480 with 1 Axes>"
      ]
     },
     "metadata": {},
     "output_type": "display_data"
    }
   ],
   "source": [
    "# plot the data points\n",
    "plt.scatter(x_train, y_train, marker='o', color='r')\n",
    "# set the title of the graph\n",
    "plt.title(\"Housing prices\")\n",
    "# set the y-axis lable\n",
    "plt.ylabel(\"Prices (in 1000s of dollars)\")\n",
    "# set the x-axis lable\n",
    "plt.xlabel(\"Sizes (1000 sqft)\")\n",
    "# the show method is used to display all figures (google it)\n",
    "plt.show()"
   ]
  },
  {
   "cell_type": "markdown",
   "id": "7c4d8c94",
   "metadata": {},
   "source": [
    "Now, remember the model function of linear regression is represented as: $f_{w,b}(x^{(i)}) = w x^{(i)} + b$ "
   ]
  },
  {
   "cell_type": "markdown",
   "id": "eb0b5cf2",
   "metadata": {},
   "source": [
    ">**Note**: This formula represents straight lines - different values of $w$ and $b$ give different straight lines on the plot"
   ]
  },
  {
   "cell_type": "markdown",
   "id": "09fa9254",
   "metadata": {},
   "source": [
    "Let's get better intuition for $w$ and $b$ values to fit a line. start with $w = 100$, $b = 100$. we can comeback here to reset w and b "
   ]
  },
  {
   "cell_type": "code",
   "execution_count": 27,
   "id": "c2775749",
   "metadata": {
    "ExecuteTime": {
     "end_time": "2023-01-14T00:36:29.666107Z",
     "start_time": "2023-01-14T00:36:29.659075Z"
    }
   },
   "outputs": [
    {
     "name": "stdout",
     "output_type": "stream",
     "text": [
      "w: 200\n",
      "b: 100\n"
     ]
    }
   ],
   "source": [
    "w = 200\n",
    "b = 100\n",
    "print(f\"w: {w}\")\n",
    "print(f\"b: {b}\")"
   ]
  },
  {
   "cell_type": "markdown",
   "id": "fbeee2ad",
   "metadata": {},
   "source": [
    "Now, lets compute $f_{w,b}(x^{(i)})$ for the above two data points"
   ]
  },
  {
   "cell_type": "markdown",
   "id": "481b623b",
   "metadata": {},
   "source": [
    "> **Note**: The argument description `(ndarray (m,))` describes a Numpy n-dimensional array of shape (m,). `(scalar)` describes an argument without dimensions, just a magnitude.  \n",
    "> **Note**: `np.zero(n)` will return a one-dimensional numpy array with $n$ entries   \n"
   ]
  },
  {
   "cell_type": "code",
   "execution_count": 22,
   "id": "93f75ca9",
   "metadata": {
    "ExecuteTime": {
     "end_time": "2023-01-14T00:28:49.753504Z",
     "start_time": "2023-01-14T00:28:49.748094Z"
    }
   },
   "outputs": [],
   "source": [
    "def compute_model_output(x, w, b):\n",
    "    \"\"\"\n",
    "    Computes the prediction of a linear model\n",
    "    Args:\n",
    "      x (ndarray (m,)): Data, m examples \n",
    "      w,b (scalar)    : model parameters  \n",
    "    Returns\n",
    "      y (ndarray (m,)): target values\n",
    "    \"\"\"\n",
    "    # Number of iterations\n",
    "    m = x.shape[0]\n",
    "    # Initialize targets array\n",
    "    f_wb = np.zeros(m)\n",
    "    for i in range(m):\n",
    "        f_wb[i] = w*x[i] + b\n",
    "    return f_wb\n",
    "    "
   ]
  },
  {
   "cell_type": "markdown",
   "id": "49471969",
   "metadata": {},
   "source": [
    "Now, lets call this method and plot the data"
   ]
  },
  {
   "cell_type": "code",
   "execution_count": 28,
   "id": "8647b311",
   "metadata": {
    "ExecuteTime": {
     "end_time": "2023-01-14T00:37:10.249510Z",
     "start_time": "2023-01-14T00:37:10.026587Z"
    }
   },
   "outputs": [
    {
     "data": {
      "image/png": "[encoded data removed]",
      "text/plain": [
       "<Figure size 640x480 with 1 Axes>"
      ]
     },
     "metadata": {},
     "output_type": "display_data"
    }
   ],
   "source": [
    "temp_f_wb = compute_model_output(x_train, w, b)\n",
    "\n",
    "# plot our data prediction\n",
    "plt.plot(x_train, temp_f_wb,c='b', label='Our prediction')\n",
    "# plot the data points \n",
    "plt.scatter(x_train, y_train, marker='o', c ='r', label ='Actual values')\n",
    "# set the title of the graph\n",
    "plt.title(\"Housing prices\")\n",
    "# set the y-axis lable\n",
    "plt.ylabel(\"Prices (in 1000s of dollars)\")\n",
    "# set the x-axis lable\n",
    "plt.xlabel(\"Sizes (1000 sqft)\")\n",
    "# to show the rectangle explains what is red and blue in the graph \n",
    "plt.legend()\n",
    "plt.show()\n"
   ]
  },
  {
   "cell_type": "markdown",
   "id": "6ef7480a",
   "metadata": {},
   "source": [
    "As we can see, setting $w = 100$ and $b = 100$ does not result a line that fits our data. "
   ]
  },
  {
   "cell_type": "markdown",
   "id": "5493e87c",
   "metadata": {},
   "source": [
    "Now, change $w$ and $b$ to make a model that fits the given data."
   ]
  },
  {
   "cell_type": "markdown",
   "id": "47d76020",
   "metadata": {},
   "source": [
    "Question"
   ]
  },
  {
   "cell_type": "markdown",
   "id": "e0641144",
   "metadata": {},
   "source": [
    "Why $w = 200$ and $b = 100$ makes our model fits the given data?"
   ]
  },
  {
   "cell_type": "markdown",
   "id": "546cc18b",
   "metadata": {},
   "source": [
    "Answer"
   ]
  },
  {
   "cell_type": "markdown",
   "id": "6931f9e4",
   "metadata": {},
   "source": [
    "Since, $w$ represents the slope, and we can get the slope from the given two points $rise/run$ Or $(y^{(1)} - y^{(0)}) / (x^{(1)} - x^{(0)})$, So, we have $w = (500.0 - 300.0) / (2 - 1) = 200.0/1 = 200.0$, so we have $w = 200$.\n",
    "\n",
    "substituting in $f_{w,b}(x^{(0)}) = wx^{(0)} + b$ where $f_{w,b}(x^{(0)}) = y^{(0)}$, so we have, $300 = 200 * 1.0 + b$, b is 100.\n"
   ]
  },
  {
   "cell_type": "code",
   "execution_count": null,
   "id": "96c16f8f",
   "metadata": {},
   "outputs": [],
   "source": []
  }
 ],
 "metadata": {
  "kernelspec": {
   "display_name": "Python 3 (ipykernel)",
   "language": "python",
   "name": "python3"
  },
  "language_info": {
   "codemirror_mode": {
    "name": "ipython",
    "version": 3
   },
   "file_extension": ".py",
   "mimetype": "text/x-python",
   "name": "python",
   "nbconvert_exporter": "python",
   "pygments_lexer": "ipython3",
   "version": "3.10.6"
  },
  "toc": {
   "base_numbering": 1,
   "nav_menu": {},
   "number_sections": true,
   "sideBar": true,
   "skip_h1_title": false,
   "title_cell": "Table of Contents",
   "title_sidebar": "Contents",
   "toc_cell": false,
   "toc_position": {},
   "toc_section_display": true,
   "toc_window_display": false
  }
 },
 "nbformat": 4,
 "nbformat_minor": 5
}
