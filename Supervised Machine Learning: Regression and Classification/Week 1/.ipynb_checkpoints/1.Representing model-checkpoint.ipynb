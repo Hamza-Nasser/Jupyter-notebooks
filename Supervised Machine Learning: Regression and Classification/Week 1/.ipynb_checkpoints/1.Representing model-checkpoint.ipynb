{
 "cells": [
  {
   "cell_type": "markdown",
   "id": "216e7762",
   "metadata": {},
   "source": [
    "# Linear Regression Model Representaion"
   ]
  },
  {
   "cell_type": "markdown",
   "id": "63fb1d69",
   "metadata": {},
   "source": [
    "## Notations"
   ]
  },
  {
   "cell_type": "markdown",
   "id": "e99e1017",
   "metadata": {},
   "source": [
    "Here is a sammury of notations used on this notebook"
   ]
  },
  {
   "cell_type": "markdown",
   "id": "4611f641",
   "metadata": {},
   "source": [
    "| General <img width=70/> <br/> notation <img width=70/> | Description <img width=600/>|Python (if applicable)|\n",
    "|:---------------|-----------:|:-:|\n",
    "| $a$ | scalar, non bold ||\n",
    "| $\\mathbf{a}$ | vector, bold||\n",
    "| **Regression** | | |\n",
    "| $\\mathbf{x}$  | Training Example Feature values (in this notebook - Size(1000sqft))|`x_train`| \n",
    "| $\\mathbf{y}$  | Training Example Targets (in this notebook - Price(1000s of dollars))|`y_train`| \n",
    "| $x^{(i)}$, $y^{(i)}$ | $i_{th}$ Training Example |`x_i`, `y_i`|\n",
    "| m | Number of training examples |`m`|\n",
    "| $w$ | Parameter: weight |`w`|\n",
    "| $b$ | Parameter: bais |`b`|\n",
    "| $f_{w,b}(x^{(i)})$ | The result of the model evaluation at $x^{(i)}$ parametarized by $w, b$: $f_{w,b}(x^{(i)}) = wx^{(i)} + b$ |`f_wb`|"
   ]
  },
  {
   "cell_type": "markdown",
   "id": "3806f7ad",
   "metadata": {},
   "source": [
    "## Training set - House pricing example."
   ]
  },
  {
   "cell_type": "markdown",
   "id": "74e2b4d4",
   "metadata": {},
   "source": [
    "Suppose we have a training set consisting of two x feature inputs (size(1000sqft)) and two y target lable (price 1000s of dollars) - a house with 1000 square feet(sqft) sold for \\\\$300,000 and a house with 2000 square feet sold for \\\\$500,000. These two points will constitute our data or training set.\n",
    "\n",
    "|Size(1000 sqft) <img width=150/> |Price (1000s of dollars) <img width=150/>|\n",
    "|:-:|:-:|\n",
    "|1.0|300|\n",
    "|2.0|500|"
   ]
  },
  {
   "cell_type": "code",
   "execution_count": 1,
   "id": "db57e8bb",
   "metadata": {
    "ExecuteTime": {
     "end_time": "2023-01-12T16:12:09.023304Z",
     "start_time": "2023-01-12T16:12:08.778915Z"
    }
   },
   "outputs": [
    {
     "ename": "ModuleNotFoundError",
     "evalue": "No module named 'numpy'",
     "output_type": "error",
     "traceback": [
      "\u001b[0;31m---------------------------------------------------------------------------\u001b[0m",
      "\u001b[0;31mModuleNotFoundError\u001b[0m                       Traceback (most recent call last)",
      "Cell \u001b[0;32mIn[1], line 1\u001b[0m\n\u001b[0;32m----> 1\u001b[0m \u001b[38;5;28;01mimport\u001b[39;00m \u001b[38;5;21;01mnumpy\u001b[39;00m \u001b[38;5;28;01mas\u001b[39;00m \u001b[38;5;21;01mnp\u001b[39;00m\n\u001b[1;32m      2\u001b[0m \u001b[38;5;28;01mimport\u001b[39;00m \u001b[38;5;21;01mmatplotlib\u001b[39;00m\u001b[38;5;21;01m.\u001b[39;00m\u001b[38;5;21;01mpyplot\u001b[39;00m \u001b[38;5;28;01mas\u001b[39;00m \u001b[38;5;21;01mplt\u001b[39;00m\n\u001b[1;32m      3\u001b[0m plt\u001b[38;5;241m.\u001b[39mstyle\u001b[38;5;241m.\u001b[39muse(\u001b[38;5;124m'\u001b[39m\u001b[38;5;124m./deeplearning.mplstyle\u001b[39m\u001b[38;5;124m'\u001b[39m)\n",
      "\u001b[0;31mModuleNotFoundError\u001b[0m: No module named 'numpy'"
     ]
    }
   ],
   "source": [
    "import numpy as np\n",
    "import matplotlib.pyplot as plt\n",
    "plt.style.use('./deeplearning.mplstyle')"
   ]
  },
  {
   "cell_type": "markdown",
   "id": "081b5cf8",
   "metadata": {},
   "source": [
    "Objective is to fit a linear regression model through these two points, so that the model can predict the price of other houses - say, a house with 1200sqft"
   ]
  },
  {
   "cell_type": "code",
   "execution_count": null,
   "id": "f9db38fe",
   "metadata": {},
   "outputs": [],
   "source": []
  }
 ],
 "metadata": {
  "kernelspec": {
   "display_name": "Python 3 (ipykernel)",
   "language": "python",
   "name": "python3"
  },
  "language_info": {
   "codemirror_mode": {
    "name": "ipython",
    "version": 3
   },
   "file_extension": ".py",
   "mimetype": "text/x-python",
   "name": "python",
   "nbconvert_exporter": "python",
   "pygments_lexer": "ipython3",
   "version": "3.10.6"
  },
  "toc": {
   "base_numbering": 1,
   "nav_menu": {},
   "number_sections": true,
   "sideBar": true,
   "skip_h1_title": false,
   "title_cell": "Table of Contents",
   "title_sidebar": "Contents",
   "toc_cell": false,
   "toc_position": {},
   "toc_section_display": true,
   "toc_window_display": false
  }
 },
 "nbformat": 4,
 "nbformat_minor": 5
}
