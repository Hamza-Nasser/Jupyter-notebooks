{
 "cells": [
  {
   "cell_type": "markdown",
   "id": "960d8b7d",
   "metadata": {},
   "source": [
    "# Linear Regression Model Representaion"
   ]
  },
  {
   "cell_type": "markdown",
   "id": "87c231a3",
   "metadata": {},
   "source": [
    "## Notations"
   ]
  },
  {
   "cell_type": "markdown",
   "id": "38593e2d",
   "metadata": {},
   "source": [
    "Here is a sammury of notations used on this notebook"
   ]
  },
  {
   "cell_type": "markdown",
   "id": "aae3e644",
   "metadata": {},
   "source": [
    "| General <img width=70/> <br/> notation <img width=70/> | Description <img width=600/>|Python (if applicable)|\n",
    "|:---------------|-----------:|:-:|\n",
    "| $a$ | scalar, non bold ||\n",
    "| $\\mathbf{a}$ | vector, bold||\n",
    "| **Regression** | | |\n",
    "| $\\mathbf{x}$  | Training Example Feature values (in this notebook - Size(1000sqft))|`x_train`| \n",
    "| $\\mathbf{y}$  | Training Example Targets (in this notebook - Price(1000s of dollars))|`y_train`| \n",
    "| $x^{(i)}$, $y^{(i)}$ | $i_{th}$ Training Example |`x_i`, `y_i`|\n",
    "| m | Number of training examples |`m`|\n",
    "| $w$ | Parameter: weight |`w`|\n",
    "| $b$ | Parameter: bais |`b`|\n",
    "| $f_{w,b}(x^{(i)})$ | The result of the model evaluation at $x^{(i)}$ parametarized by $w, b$: $f_{w,b}(x^{(i)}) = wx^{(i)} + b$ |`f_wb`|"
   ]
  },
  {
   "cell_type": "markdown",
   "id": "65a4eff0",
   "metadata": {},
   "source": [
    "## Training set - House pricing example."
   ]
  },
  {
   "cell_type": "markdown",
   "id": "42cbfddf",
   "metadata": {},
   "source": [
    "Suppose we have a training set consisting of two x feature inputs (size(1000sqft)) and two y target lable (price 1000s of dollars) - a house with 1000 square feet(sqft) sold for \\\\$300,000 and a house with 2000 square feet sold for \\\\$500,000. These two points will constitute our data or training set.\n",
    "\n",
    "|Size(1000 sqft) <img width=150/> |Price (1000s of dollars) <img width=150/>|\n",
    "|:-:|:-:|\n",
    "|1.0|300|\n",
    "|2.0|500|"
   ]
  },
  {
   "cell_type": "code",
   "execution_count": 5,
   "id": "0b0c4186",
   "metadata": {
    "ExecuteTime": {
     "end_time": "2023-01-12T16:15:45.332701Z",
     "start_time": "2023-01-12T16:15:45.327573Z"
    }
   },
   "outputs": [],
   "source": [
    "import numpy as np\n",
    "import matplotlib.pyplot as plt\n",
    "# plt.style.use('./deeplearning.mplstyle') "
   ]
  },
  {
   "cell_type": "code",
   "execution_count": 7,
   "id": "7351c67f",
   "metadata": {
    "ExecuteTime": {
     "end_time": "2023-01-12T16:18:58.304181Z",
     "start_time": "2023-01-12T16:18:58.080289Z"
    }
   },
   "outputs": [
    {
     "name": "stdout",
     "output_type": "stream",
     "text": [
      "x_train = [1. 2.]\n",
      "y_train = [300 500]\n"
     ]
    },
    {
     "data": {
      "text/plain": [
       "<matplotlib.collections.PathCollection at 0x7fd57aeac880>"
      ]
     },
     "execution_count": 7,
     "metadata": {},
     "output_type": "execute_result"
    },
    {
     "data": {
      "image/png": "[encoded data removed]",
      "text/plain": [
       "<Figure size 640x480 with 1 Axes>"
      ]
     },
     "metadata": {},
     "output_type": "display_data"
    }
   ],
   "source": [
    "# initialize numpy arrays with the training set above\n",
    "# x_train is the input variable (size in 1000 square feet)\n",
    "# y_train is the target (price in 1000s of dollars)\n",
    "x_train = np.array([1.0, 2.0])\n",
    "y_train = np.array([300, 500])\n",
    "print(f\"x_train = {x_train}\")\n",
    "print(f\"y_train = {y_train}\")\n",
    "plt.scatter(x_train, y_train, marker='o', color='r')"
   ]
  },
  {
   "cell_type": "markdown",
   "id": "51ceaf80",
   "metadata": {},
   "source": [
    "Objective is to fit a linear regression model through these two points, so that the model can predict the price of other houses - say, a house with 1200sqft. Obviously its a straight line."
   ]
  },
  {
   "cell_type": "markdown",
   "id": "757a3aa6",
   "metadata": {},
   "source": [
    ">**Note**: 'f-string' is used here to be able to print expressions after evaluating. when printing. The content between the curly braces is evaluated when producing the output."
   ]
  },
  {
   "cell_type": "code",
   "execution_count": null,
   "id": "beb9ceb7",
   "metadata": {},
   "outputs": [],
   "source": []
  }
 ],
 "metadata": {
  "kernelspec": {
   "display_name": "Python 3 (ipykernel)",
   "language": "python",
   "name": "python3"
  },
  "language_info": {
   "codemirror_mode": {
    "name": "ipython",
    "version": 3
   },
   "file_extension": ".py",
   "mimetype": "text/x-python",
   "name": "python",
   "nbconvert_exporter": "python",
   "pygments_lexer": "ipython3",
   "version": "3.10.6"
  },
  "toc": {
   "base_numbering": 1,
   "nav_menu": {},
   "number_sections": true,
   "sideBar": true,
   "skip_h1_title": false,
   "title_cell": "Table of Contents",
   "title_sidebar": "Contents",
   "toc_cell": false,
   "toc_position": {},
   "toc_section_display": true,
   "toc_window_display": false
  }
 },
 "nbformat": 4,
 "nbformat_minor": 5
}
